{
 "cells": [
  {
   "cell_type": "markdown",
   "id": "05d8704b-7073-4887-abac-7099f063766d",
   "metadata": {},
   "source": [
    "# TASK1"
   ]
  },
  {
   "cell_type": "markdown",
   "id": "fee74ca7",
   "metadata": {},
   "source": [
    "--> I started with creating dictionary 'Categories' having list of keywords corresponding to type of company.\n",
    "--> Scraped data using beautifulsoup ( only html content.) (did not go for java script content as it would have required 'selenium')\n",
    "-->Created views using Pandas\n",
    "-->created function for cheecking relevancy and conditional formatting.\n",
    "HAVE A LOOK OF MY NOTEBOOK. (Its not the best that I can do as there are a lot of things that can still be done here. But it's like a sample of my work.)\n",
    "I look forward to discuss more and work with deep thought. "
   ]
  },
  {
   "cell_type": "code",
   "execution_count": 134,
   "id": "30c21f2e-3596-4d6a-859e-136cf6621479",
   "metadata": {},
   "outputs": [],
   "source": [
    "categories = {\n",
    "    \"F&B\": [\"beverage\", \"cereal\", \"milk\"],\n",
    "    \"Manufacturer\": [\"production\", \"plant\", \"capacity\", \"certification\",\"manufacturer\",\"innovative\"],\n",
    "    \"Brand\": [\"price\", \"product description\", \"trust\"],\n",
    "    \"Distributor\": [\"raw materials\", \"nutraceuticals\", \"probiotics\",\"suppliers\"]\n",
    "}"
   ]
  },
  {
   "cell_type": "code",
   "execution_count": 136,
   "id": "c36adda7-80e1-48a7-bb5e-72ad222287c9",
   "metadata": {},
   "outputs": [],
   "source": [
    "import requests\n",
    "from bs4 import BeautifulSoup\n",
    "import pandas as pd\n",
    "\n",
    "# Define the URL\n",
    "url = \"https://www.jnj.com/\"\n",
    "\n",
    "# Fetch HTML content\n",
    "response = requests.get(url)\n",
    "soup = BeautifulSoup(response.text, 'html.parser')\n",
    "\n",
    "# Extract all text from the webpage\n",
    "all_text = soup.get_text().lower()\n",
    "\n",
    "# Split text into sentences for context analysis\n",
    "sentences = all_text.split('.')"
   ]
  },
  {
   "cell_type": "code",
   "execution_count": 140,
   "id": "147341bb-34f6-405b-86c1-18f2e3eaf167",
   "metadata": {},
   "outputs": [],
   "source": [
    "results = []\n",
    "for category, keywords in categories.items():\n",
    "    is_present = any(keyword in all_text for keyword in keywords)\n",
    "    results.append({\"Category\": category, \"Present\": is_present})\n"
   ]
  },
  {
   "cell_type": "code",
   "execution_count": 142,
   "id": "94f4166e-e9c3-4777-afa4-cad037dd3a21",
   "metadata": {},
   "outputs": [
    {
     "data": {
      "text/plain": [
       "[{'Category': 'F&B', 'Present': False},\n",
       " {'Category': 'Manufacturer', 'Present': True},\n",
       " {'Category': 'Brand', 'Present': False},\n",
       " {'Category': 'Distributor', 'Present': True}]"
      ]
     },
     "execution_count": 142,
     "metadata": {},
     "output_type": "execute_result"
    }
   ],
   "source": [
    "results"
   ]
  },
  {
   "cell_type": "code",
   "execution_count": 146,
   "id": "203f5577-e1d5-4dbf-ac10-a013f8302dde",
   "metadata": {},
   "outputs": [],
   "source": [
    "df1 = pd.DataFrame(results) "
   ]
  },
  {
   "cell_type": "code",
   "execution_count": 148,
   "id": "a20c89f6-8c14-442a-88ff-ccf380f093d3",
   "metadata": {},
   "outputs": [],
   "source": [
    "df1[\"Company\"] = \"jnj\""
   ]
  },
  {
   "cell_type": "code",
   "execution_count": 150,
   "id": "3c49a3c6-5394-4fed-9fe6-e1d4da8fdfd2",
   "metadata": {},
   "outputs": [
    {
     "data": {
      "text/html": [
       "<div>\n",
       "<style scoped>\n",
       "    .dataframe tbody tr th:only-of-type {\n",
       "        vertical-align: middle;\n",
       "    }\n",
       "\n",
       "    .dataframe tbody tr th {\n",
       "        vertical-align: top;\n",
       "    }\n",
       "\n",
       "    .dataframe thead th {\n",
       "        text-align: right;\n",
       "    }\n",
       "</style>\n",
       "<table border=\"1\" class=\"dataframe\">\n",
       "  <thead>\n",
       "    <tr style=\"text-align: right;\">\n",
       "      <th></th>\n",
       "      <th>Category</th>\n",
       "      <th>Present</th>\n",
       "      <th>Company</th>\n",
       "    </tr>\n",
       "  </thead>\n",
       "  <tbody>\n",
       "    <tr>\n",
       "      <th>0</th>\n",
       "      <td>F&amp;B</td>\n",
       "      <td>False</td>\n",
       "      <td>jnj</td>\n",
       "    </tr>\n",
       "    <tr>\n",
       "      <th>1</th>\n",
       "      <td>Manufacturer</td>\n",
       "      <td>True</td>\n",
       "      <td>jnj</td>\n",
       "    </tr>\n",
       "    <tr>\n",
       "      <th>2</th>\n",
       "      <td>Brand</td>\n",
       "      <td>False</td>\n",
       "      <td>jnj</td>\n",
       "    </tr>\n",
       "    <tr>\n",
       "      <th>3</th>\n",
       "      <td>Distributor</td>\n",
       "      <td>True</td>\n",
       "      <td>jnj</td>\n",
       "    </tr>\n",
       "  </tbody>\n",
       "</table>\n",
       "</div>"
      ],
      "text/plain": [
       "       Category  Present Company\n",
       "0           F&B    False     jnj\n",
       "1  Manufacturer     True     jnj\n",
       "2         Brand    False     jnj\n",
       "3   Distributor     True     jnj"
      ]
     },
     "execution_count": 150,
     "metadata": {},
     "output_type": "execute_result"
    }
   ],
   "source": [
    "df1"
   ]
  },
  {
   "cell_type": "code",
   "execution_count": 11,
   "id": "0a927fe7-38d9-41cc-bacf-33cd2f63046e",
   "metadata": {},
   "outputs": [],
   "source": [
    "url2 = \"https://namasteindiafoods.com/about-us.html\""
   ]
  },
  {
   "cell_type": "code",
   "execution_count": 25,
   "id": "46f88edd-c167-4bab-ba8b-3c52fdfdae18",
   "metadata": {},
   "outputs": [],
   "source": [
    "response2 = requests.get(url2)\n",
    "soup2 = BeautifulSoup(response2.text, 'html.parser')\n",
    "\n",
    "# Extract all text from the webpage\n",
    "all_text2 = soup2.get_text().lower()\n",
    "\n",
    "# Split text into sentences for context analysis\n",
    "sentences2 = all_text2.split('.')"
   ]
  },
  {
   "cell_type": "code",
   "execution_count": 33,
   "id": "e914f35d-6a87-4fad-94ba-2c8f05ce0ff2",
   "metadata": {},
   "outputs": [],
   "source": [
    "results2 = []\n",
    "for category, keywords in categories.items():\n",
    "    is_present = any(keyword in all_text2 for keyword in keywords)\n",
    "    results2.append({\"Category\": category, \"Present\": is_present})"
   ]
  },
  {
   "cell_type": "code",
   "execution_count": 35,
   "id": "69954297-b5ac-49da-8673-fe85f15701ef",
   "metadata": {},
   "outputs": [
    {
     "data": {
      "text/plain": [
       "[{'Category': 'F&B', 'Present': True},\n",
       " {'Category': 'Manufacturer', 'Present': False},\n",
       " {'Category': 'Brand', 'Present': True},\n",
       " {'Category': 'Distributor', 'Present': False}]"
      ]
     },
     "execution_count": 35,
     "metadata": {},
     "output_type": "execute_result"
    }
   ],
   "source": [
    "results2"
   ]
  },
  {
   "cell_type": "code",
   "execution_count": 112,
   "id": "59795750-488c-44da-98dd-15e802868792",
   "metadata": {},
   "outputs": [],
   "source": [
    "df2 = pd.DataFrame(results2)"
   ]
  },
  {
   "cell_type": "code",
   "execution_count": 114,
   "id": "cc5ccab1-820d-49b9-8bc7-51eb5b1190da",
   "metadata": {},
   "outputs": [],
   "source": [
    "df2[\"Company\"] = \"namasteindiafoods\""
   ]
  },
  {
   "cell_type": "code",
   "execution_count": 116,
   "id": "aaa136aa-7087-453f-91e3-9b092f610091",
   "metadata": {},
   "outputs": [
    {
     "data": {
      "text/html": [
       "<div>\n",
       "<style scoped>\n",
       "    .dataframe tbody tr th:only-of-type {\n",
       "        vertical-align: middle;\n",
       "    }\n",
       "\n",
       "    .dataframe tbody tr th {\n",
       "        vertical-align: top;\n",
       "    }\n",
       "\n",
       "    .dataframe thead th {\n",
       "        text-align: right;\n",
       "    }\n",
       "</style>\n",
       "<table border=\"1\" class=\"dataframe\">\n",
       "  <thead>\n",
       "    <tr style=\"text-align: right;\">\n",
       "      <th></th>\n",
       "      <th>Category</th>\n",
       "      <th>Present</th>\n",
       "      <th>Company</th>\n",
       "    </tr>\n",
       "  </thead>\n",
       "  <tbody>\n",
       "    <tr>\n",
       "      <th>0</th>\n",
       "      <td>F&amp;B</td>\n",
       "      <td>True</td>\n",
       "      <td>namasteindiafoods</td>\n",
       "    </tr>\n",
       "    <tr>\n",
       "      <th>1</th>\n",
       "      <td>Manufacturer</td>\n",
       "      <td>False</td>\n",
       "      <td>namasteindiafoods</td>\n",
       "    </tr>\n",
       "    <tr>\n",
       "      <th>2</th>\n",
       "      <td>Brand</td>\n",
       "      <td>True</td>\n",
       "      <td>namasteindiafoods</td>\n",
       "    </tr>\n",
       "    <tr>\n",
       "      <th>3</th>\n",
       "      <td>Distributor</td>\n",
       "      <td>False</td>\n",
       "      <td>namasteindiafoods</td>\n",
       "    </tr>\n",
       "  </tbody>\n",
       "</table>\n",
       "</div>"
      ],
      "text/plain": [
       "       Category  Present            Company\n",
       "0           F&B     True  namasteindiafoods\n",
       "1  Manufacturer    False  namasteindiafoods\n",
       "2         Brand     True  namasteindiafoods\n",
       "3   Distributor    False  namasteindiafoods"
      ]
     },
     "execution_count": 116,
     "metadata": {},
     "output_type": "execute_result"
    }
   ],
   "source": [
    "df2"
   ]
  },
  {
   "cell_type": "code",
   "execution_count": 68,
   "id": "3ce8680e-ce68-436d-9575-781770d35b36",
   "metadata": {},
   "outputs": [],
   "source": [
    "url3 =\"https://www.zinereopharma.com/en/\""
   ]
  },
  {
   "cell_type": "code",
   "execution_count": 70,
   "id": "b42c6942-3815-4f31-90e6-9cb4b38ccbfd",
   "metadata": {},
   "outputs": [],
   "source": [
    "response3 = requests.get(url3)\n",
    "soup3 = BeautifulSoup(response3.text, 'html.parser')\n",
    "\n",
    "# Extract all text from the webpage\n",
    "all_text3 = soup3.get_text().lower()\n",
    "\n",
    "# Split text into sentences for context analysis\n",
    "sentences3 = all_text3.split('.')"
   ]
  },
  {
   "cell_type": "code",
   "execution_count": 74,
   "id": "94781d22-a88f-44ba-b148-62d1efbd59b9",
   "metadata": {},
   "outputs": [],
   "source": [
    "results3 = []\n",
    "for category, keywords in categories.items():\n",
    "    is_present = any(keyword in all_text3 for keyword in keywords)\n",
    "    results3.append({\"Category\": category, \"Present\": is_present})"
   ]
  },
  {
   "cell_type": "code",
   "execution_count": 76,
   "id": "1624581d-e064-45f7-8e23-b3aadf5ed538",
   "metadata": {},
   "outputs": [
    {
     "data": {
      "text/plain": [
       "[{'Category': 'F&B', 'Present': False},\n",
       " {'Category': 'Manufacturer', 'Present': True},\n",
       " {'Category': 'Brand', 'Present': False},\n",
       " {'Category': 'Distributor', 'Present': True}]"
      ]
     },
     "execution_count": 76,
     "metadata": {},
     "output_type": "execute_result"
    }
   ],
   "source": [
    "results3"
   ]
  },
  {
   "cell_type": "code",
   "execution_count": 100,
   "id": "59b06af1-5a07-41e6-b54c-a0aa36a65ff9",
   "metadata": {},
   "outputs": [],
   "source": [
    "df3 = pd.DataFrame(results3)"
   ]
  },
  {
   "cell_type": "code",
   "execution_count": 102,
   "id": "9b0ce791-b9be-4a86-8a91-d2a438acb0a5",
   "metadata": {},
   "outputs": [],
   "source": [
    "df3['Company'] = \"zinereopharma\""
   ]
  },
  {
   "cell_type": "code",
   "execution_count": 104,
   "id": "9e9c0be5-4180-44e7-b74a-f30f7db94614",
   "metadata": {},
   "outputs": [
    {
     "data": {
      "text/html": [
       "<div>\n",
       "<style scoped>\n",
       "    .dataframe tbody tr th:only-of-type {\n",
       "        vertical-align: middle;\n",
       "    }\n",
       "\n",
       "    .dataframe tbody tr th {\n",
       "        vertical-align: top;\n",
       "    }\n",
       "\n",
       "    .dataframe thead th {\n",
       "        text-align: right;\n",
       "    }\n",
       "</style>\n",
       "<table border=\"1\" class=\"dataframe\">\n",
       "  <thead>\n",
       "    <tr style=\"text-align: right;\">\n",
       "      <th></th>\n",
       "      <th>Category</th>\n",
       "      <th>Present</th>\n",
       "      <th>Company</th>\n",
       "    </tr>\n",
       "  </thead>\n",
       "  <tbody>\n",
       "    <tr>\n",
       "      <th>0</th>\n",
       "      <td>F&amp;B</td>\n",
       "      <td>False</td>\n",
       "      <td>zinereopharma</td>\n",
       "    </tr>\n",
       "    <tr>\n",
       "      <th>1</th>\n",
       "      <td>Manufacturer</td>\n",
       "      <td>True</td>\n",
       "      <td>zinereopharma</td>\n",
       "    </tr>\n",
       "    <tr>\n",
       "      <th>2</th>\n",
       "      <td>Brand</td>\n",
       "      <td>False</td>\n",
       "      <td>zinereopharma</td>\n",
       "    </tr>\n",
       "    <tr>\n",
       "      <th>3</th>\n",
       "      <td>Distributor</td>\n",
       "      <td>True</td>\n",
       "      <td>zinereopharma</td>\n",
       "    </tr>\n",
       "  </tbody>\n",
       "</table>\n",
       "</div>"
      ],
      "text/plain": [
       "       Category  Present        Company\n",
       "0           F&B    False  zinereopharma\n",
       "1  Manufacturer     True  zinereopharma\n",
       "2         Brand    False  zinereopharma\n",
       "3   Distributor     True  zinereopharma"
      ]
     },
     "execution_count": 104,
     "metadata": {},
     "output_type": "execute_result"
    }
   ],
   "source": []
  },
  {
   "cell_type": "code",
   "execution_count": 78,
   "id": "60275b6a-b96d-41fb-ae7a-221b061c0f65",
   "metadata": {},
   "outputs": [],
   "source": [
    "url4 = \"https://www.mondelezinternational.com/\""
   ]
  },
  {
   "cell_type": "code",
   "execution_count": 80,
   "id": "2ac53d5d-e8d9-44ef-ae63-1a5bfbc25982",
   "metadata": {},
   "outputs": [],
   "source": [
    "response4 = requests.get(url4)\n",
    "soup4 = BeautifulSoup(response4.text, 'html.parser')\n",
    "\n",
    "# Extract all text from the webpage\n",
    "all_text4 = soup4.get_text().lower()\n",
    "\n",
    "# Split text into sentences for context analysis\n",
    "sentences4 = all_text4.split('.')"
   ]
  },
  {
   "cell_type": "code",
   "execution_count": 84,
   "id": "5004d261-4f6a-4b56-9179-7855dd561692",
   "metadata": {},
   "outputs": [],
   "source": [
    "results4 = []\n",
    "for category, keywords in categories.items():\n",
    "    is_present = any(keyword in all_text4 for keyword in keywords)\n",
    "    results4.append({\"Category\": category, \"Present\": is_present})"
   ]
  },
  {
   "cell_type": "code",
   "execution_count": 86,
   "id": "5e324e01-7782-4919-8386-a832cdc81afd",
   "metadata": {},
   "outputs": [
    {
     "data": {
      "text/plain": [
       "[{'Category': 'F&B', 'Present': True},\n",
       " {'Category': 'Manufacturer', 'Present': False},\n",
       " {'Category': 'Brand', 'Present': False},\n",
       " {'Category': 'Distributor', 'Present': False}]"
      ]
     },
     "execution_count": 86,
     "metadata": {},
     "output_type": "execute_result"
    }
   ],
   "source": [
    "results4"
   ]
  },
  {
   "cell_type": "code",
   "execution_count": 106,
   "id": "62fa8737-3658-44c3-adea-5264b23265cf",
   "metadata": {},
   "outputs": [],
   "source": [
    "df4 = pd.DataFrame(results4)"
   ]
  },
  {
   "cell_type": "code",
   "execution_count": 108,
   "id": "7b9c501b-98a9-4c75-b228-8f197e8f5062",
   "metadata": {},
   "outputs": [],
   "source": [
    "df4['Company'] = \"mondelezinternational\""
   ]
  },
  {
   "cell_type": "code",
   "execution_count": 110,
   "id": "247ef31f-664f-4a68-ba46-333a55489f9f",
   "metadata": {},
   "outputs": [
    {
     "data": {
      "text/html": [
       "<div>\n",
       "<style scoped>\n",
       "    .dataframe tbody tr th:only-of-type {\n",
       "        vertical-align: middle;\n",
       "    }\n",
       "\n",
       "    .dataframe tbody tr th {\n",
       "        vertical-align: top;\n",
       "    }\n",
       "\n",
       "    .dataframe thead th {\n",
       "        text-align: right;\n",
       "    }\n",
       "</style>\n",
       "<table border=\"1\" class=\"dataframe\">\n",
       "  <thead>\n",
       "    <tr style=\"text-align: right;\">\n",
       "      <th></th>\n",
       "      <th>Category</th>\n",
       "      <th>Present</th>\n",
       "      <th>Company</th>\n",
       "    </tr>\n",
       "  </thead>\n",
       "  <tbody>\n",
       "    <tr>\n",
       "      <th>0</th>\n",
       "      <td>F&amp;B</td>\n",
       "      <td>True</td>\n",
       "      <td>mondelezinternational</td>\n",
       "    </tr>\n",
       "    <tr>\n",
       "      <th>1</th>\n",
       "      <td>Manufacturer</td>\n",
       "      <td>False</td>\n",
       "      <td>mondelezinternational</td>\n",
       "    </tr>\n",
       "    <tr>\n",
       "      <th>2</th>\n",
       "      <td>Brand</td>\n",
       "      <td>False</td>\n",
       "      <td>mondelezinternational</td>\n",
       "    </tr>\n",
       "    <tr>\n",
       "      <th>3</th>\n",
       "      <td>Distributor</td>\n",
       "      <td>False</td>\n",
       "      <td>mondelezinternational</td>\n",
       "    </tr>\n",
       "  </tbody>\n",
       "</table>\n",
       "</div>"
      ],
      "text/plain": [
       "       Category  Present                Company\n",
       "0           F&B     True  mondelezinternational\n",
       "1  Manufacturer    False  mondelezinternational\n",
       "2         Brand    False  mondelezinternational\n",
       "3   Distributor    False  mondelezinternational"
      ]
     },
     "execution_count": 110,
     "metadata": {},
     "output_type": "execute_result"
    }
   ],
   "source": [
    "df4"
   ]
  },
  {
   "cell_type": "code",
   "execution_count": 178,
   "id": "1aca9c69-d02c-4d8b-ab39-a7b3b0ea8820",
   "metadata": {},
   "outputs": [],
   "source": [
    "df = pd.concat([df1,df2,df3,df4],axis=0)\n",
    "df_copy = df"
   ]
  },
  {
   "cell_type": "markdown",
   "id": "e2ce5306-7846-42c6-9d5a-c544b3dd040c",
   "metadata": {},
   "source": [
    "### View-1"
   ]
  },
  {
   "cell_type": "code",
   "execution_count": 181,
   "id": "71c10281-39a4-4089-9725-f4652521f13b",
   "metadata": {},
   "outputs": [
    {
     "data": {
      "text/html": [
       "<div>\n",
       "<style scoped>\n",
       "    .dataframe tbody tr th:only-of-type {\n",
       "        vertical-align: middle;\n",
       "    }\n",
       "\n",
       "    .dataframe tbody tr th {\n",
       "        vertical-align: top;\n",
       "    }\n",
       "\n",
       "    .dataframe thead th {\n",
       "        text-align: right;\n",
       "    }\n",
       "</style>\n",
       "<table border=\"1\" class=\"dataframe\">\n",
       "  <thead>\n",
       "    <tr style=\"text-align: right;\">\n",
       "      <th></th>\n",
       "      <th></th>\n",
       "      <th>Present</th>\n",
       "    </tr>\n",
       "    <tr>\n",
       "      <th>Company</th>\n",
       "      <th>Category</th>\n",
       "      <th></th>\n",
       "    </tr>\n",
       "  </thead>\n",
       "  <tbody>\n",
       "    <tr>\n",
       "      <th rowspan=\"4\" valign=\"top\">jnj</th>\n",
       "      <th>F&amp;B</th>\n",
       "      <td>False</td>\n",
       "    </tr>\n",
       "    <tr>\n",
       "      <th>Manufacturer</th>\n",
       "      <td>True</td>\n",
       "    </tr>\n",
       "    <tr>\n",
       "      <th>Brand</th>\n",
       "      <td>False</td>\n",
       "    </tr>\n",
       "    <tr>\n",
       "      <th>Distributor</th>\n",
       "      <td>True</td>\n",
       "    </tr>\n",
       "    <tr>\n",
       "      <th rowspan=\"4\" valign=\"top\">namasteindiafoods</th>\n",
       "      <th>F&amp;B</th>\n",
       "      <td>True</td>\n",
       "    </tr>\n",
       "    <tr>\n",
       "      <th>Manufacturer</th>\n",
       "      <td>False</td>\n",
       "    </tr>\n",
       "    <tr>\n",
       "      <th>Brand</th>\n",
       "      <td>True</td>\n",
       "    </tr>\n",
       "    <tr>\n",
       "      <th>Distributor</th>\n",
       "      <td>False</td>\n",
       "    </tr>\n",
       "    <tr>\n",
       "      <th rowspan=\"4\" valign=\"top\">zinereopharma</th>\n",
       "      <th>F&amp;B</th>\n",
       "      <td>False</td>\n",
       "    </tr>\n",
       "    <tr>\n",
       "      <th>Manufacturer</th>\n",
       "      <td>True</td>\n",
       "    </tr>\n",
       "    <tr>\n",
       "      <th>Brand</th>\n",
       "      <td>False</td>\n",
       "    </tr>\n",
       "    <tr>\n",
       "      <th>Distributor</th>\n",
       "      <td>True</td>\n",
       "    </tr>\n",
       "    <tr>\n",
       "      <th rowspan=\"4\" valign=\"top\">mondelezinternational</th>\n",
       "      <th>F&amp;B</th>\n",
       "      <td>True</td>\n",
       "    </tr>\n",
       "    <tr>\n",
       "      <th>Manufacturer</th>\n",
       "      <td>False</td>\n",
       "    </tr>\n",
       "    <tr>\n",
       "      <th>Brand</th>\n",
       "      <td>False</td>\n",
       "    </tr>\n",
       "    <tr>\n",
       "      <th>Distributor</th>\n",
       "      <td>False</td>\n",
       "    </tr>\n",
       "  </tbody>\n",
       "</table>\n",
       "</div>"
      ],
      "text/plain": [
       "                                    Present\n",
       "Company               Category             \n",
       "jnj                   F&B             False\n",
       "                      Manufacturer     True\n",
       "                      Brand           False\n",
       "                      Distributor      True\n",
       "namasteindiafoods     F&B              True\n",
       "                      Manufacturer    False\n",
       "                      Brand            True\n",
       "                      Distributor     False\n",
       "zinereopharma         F&B             False\n",
       "                      Manufacturer     True\n",
       "                      Brand           False\n",
       "                      Distributor      True\n",
       "mondelezinternational F&B              True\n",
       "                      Manufacturer    False\n",
       "                      Brand           False\n",
       "                      Distributor     False"
      ]
     },
     "execution_count": 181,
     "metadata": {},
     "output_type": "execute_result"
    }
   ],
   "source": [
    "df_copy.set_index(['Company','Category'])"
   ]
  },
  {
   "cell_type": "code",
   "execution_count": 186,
   "id": "9a2f2413-3cb5-47b9-bc18-8f95b86ab070",
   "metadata": {},
   "outputs": [
    {
     "data": {
      "text/plain": [
       "array(['jnj', 'namasteindiafoods', 'zinereopharma',\n",
       "       'mondelezinternational'], dtype=object)"
      ]
     },
     "execution_count": 186,
     "metadata": {},
     "output_type": "execute_result"
    }
   ],
   "source": [
    "df[\"Company\"].unique()"
   ]
  },
  {
   "cell_type": "code",
   "execution_count": 194,
   "id": "0e123781-c602-442f-93a8-087c16f7c9fd",
   "metadata": {},
   "outputs": [],
   "source": [
    "result = df[df['Present'] == True].groupby('Company')[\"Category\"].apply(list).reset_index()"
   ]
  },
  {
   "cell_type": "code",
   "execution_count": 196,
   "id": "8a6564e8-09a2-47f8-9363-9f29a07d0466",
   "metadata": {},
   "outputs": [
    {
     "data": {
      "text/html": [
       "<div>\n",
       "<style scoped>\n",
       "    .dataframe tbody tr th:only-of-type {\n",
       "        vertical-align: middle;\n",
       "    }\n",
       "\n",
       "    .dataframe tbody tr th {\n",
       "        vertical-align: top;\n",
       "    }\n",
       "\n",
       "    .dataframe thead th {\n",
       "        text-align: right;\n",
       "    }\n",
       "</style>\n",
       "<table border=\"1\" class=\"dataframe\">\n",
       "  <thead>\n",
       "    <tr style=\"text-align: right;\">\n",
       "      <th></th>\n",
       "      <th>Company</th>\n",
       "      <th>Category</th>\n",
       "    </tr>\n",
       "  </thead>\n",
       "  <tbody>\n",
       "    <tr>\n",
       "      <th>0</th>\n",
       "      <td>jnj</td>\n",
       "      <td>[Manufacturer, Distributor]</td>\n",
       "    </tr>\n",
       "    <tr>\n",
       "      <th>1</th>\n",
       "      <td>mondelezinternational</td>\n",
       "      <td>[F&amp;B]</td>\n",
       "    </tr>\n",
       "    <tr>\n",
       "      <th>2</th>\n",
       "      <td>namasteindiafoods</td>\n",
       "      <td>[F&amp;B, Brand]</td>\n",
       "    </tr>\n",
       "    <tr>\n",
       "      <th>3</th>\n",
       "      <td>zinereopharma</td>\n",
       "      <td>[Manufacturer, Distributor]</td>\n",
       "    </tr>\n",
       "  </tbody>\n",
       "</table>\n",
       "</div>"
      ],
      "text/plain": [
       "                 Company                     Category\n",
       "0                    jnj  [Manufacturer, Distributor]\n",
       "1  mondelezinternational                        [F&B]\n",
       "2      namasteindiafoods                 [F&B, Brand]\n",
       "3          zinereopharma  [Manufacturer, Distributor]"
      ]
     },
     "execution_count": 196,
     "metadata": {},
     "output_type": "execute_result"
    }
   ],
   "source": [
    "result"
   ]
  },
  {
   "cell_type": "markdown",
   "id": "c4c90e84-21a6-4c66-9be6-3a130eca6fbf",
   "metadata": {},
   "source": [
    "# Task2"
   ]
  },
  {
   "cell_type": "markdown",
   "id": "ebf7b594-8356-4247-ab8c-ef95998dd6a1",
   "metadata": {},
   "source": [
    "### Relevant function for checking revelancy"
   ]
  },
  {
   "cell_type": "code",
   "execution_count": 202,
   "id": "b5fdb38a-9e09-48cc-b898-41a869abf352",
   "metadata": {},
   "outputs": [],
   "source": [
    "def Relevant(Category):\n",
    "    if (\"Manufacturer\" in Category) | (\"Distributor\" in Category) | (\"F&B\" in Category) |  (\"Brand\" in Category):\n",
    "        return True\n",
    "    else:\n",
    "        return False"
   ]
  },
  {
   "cell_type": "code",
   "execution_count": 204,
   "id": "16567de8-7121-4c39-a694-40e601a6746e",
   "metadata": {},
   "outputs": [],
   "source": [
    "result[\"Relevant\"] = result[\"Category\"].apply(Relevant) "
   ]
  },
  {
   "cell_type": "markdown",
   "id": "0f9dae12-0e56-4816-a5e6-6381dcba4ef6",
   "metadata": {},
   "source": [
    "### View-2"
   ]
  },
  {
   "cell_type": "code",
   "execution_count": 206,
   "id": "3ec93c5b-00b0-4fa1-b33a-0351ecc3ed2b",
   "metadata": {},
   "outputs": [
    {
     "data": {
      "text/html": [
       "<div>\n",
       "<style scoped>\n",
       "    .dataframe tbody tr th:only-of-type {\n",
       "        vertical-align: middle;\n",
       "    }\n",
       "\n",
       "    .dataframe tbody tr th {\n",
       "        vertical-align: top;\n",
       "    }\n",
       "\n",
       "    .dataframe thead th {\n",
       "        text-align: right;\n",
       "    }\n",
       "</style>\n",
       "<table border=\"1\" class=\"dataframe\">\n",
       "  <thead>\n",
       "    <tr style=\"text-align: right;\">\n",
       "      <th></th>\n",
       "      <th>Company</th>\n",
       "      <th>Category</th>\n",
       "      <th>Relevant</th>\n",
       "    </tr>\n",
       "  </thead>\n",
       "  <tbody>\n",
       "    <tr>\n",
       "      <th>0</th>\n",
       "      <td>jnj</td>\n",
       "      <td>[Manufacturer, Distributor]</td>\n",
       "      <td>True</td>\n",
       "    </tr>\n",
       "    <tr>\n",
       "      <th>1</th>\n",
       "      <td>mondelezinternational</td>\n",
       "      <td>[F&amp;B]</td>\n",
       "      <td>True</td>\n",
       "    </tr>\n",
       "    <tr>\n",
       "      <th>2</th>\n",
       "      <td>namasteindiafoods</td>\n",
       "      <td>[F&amp;B, Brand]</td>\n",
       "      <td>True</td>\n",
       "    </tr>\n",
       "    <tr>\n",
       "      <th>3</th>\n",
       "      <td>zinereopharma</td>\n",
       "      <td>[Manufacturer, Distributor]</td>\n",
       "      <td>True</td>\n",
       "    </tr>\n",
       "  </tbody>\n",
       "</table>\n",
       "</div>"
      ],
      "text/plain": [
       "                 Company                     Category  Relevant\n",
       "0                    jnj  [Manufacturer, Distributor]      True\n",
       "1  mondelezinternational                        [F&B]      True\n",
       "2      namasteindiafoods                 [F&B, Brand]      True\n",
       "3          zinereopharma  [Manufacturer, Distributor]      True"
      ]
     },
     "execution_count": 206,
     "metadata": {},
     "output_type": "execute_result"
    }
   ],
   "source": [
    "result"
   ]
  },
  {
   "cell_type": "markdown",
   "id": "4b25d990-6c68-42fb-9580-de79044f10c9",
   "metadata": {},
   "source": [
    "### Conditional formatting in pandas . We can also do the same for excel. But here we have done only for the Jupyter."
   ]
  },
  {
   "cell_type": "code",
   "execution_count": 220,
   "id": "5523a2c6-c73b-4f67-b43e-bee8361dd330",
   "metadata": {},
   "outputs": [],
   "source": [
    "def color_cells(val):\n",
    "    color = 'green' if val != 'Not recognized' else 'red'\n",
    "    return f'background-color: {color}'"
   ]
  },
  {
   "cell_type": "code",
   "execution_count": 226,
   "id": "44d7c13d-f492-4257-a9b6-7a076e25cfec",
   "metadata": {},
   "outputs": [
    {
     "name": "stderr",
     "output_type": "stream",
     "text": [
      "C:\\Users\\ADITYA SINGH\\AppData\\Local\\Temp\\ipykernel_23392\\1160188336.py:1: FutureWarning: Styler.applymap has been deprecated. Use Styler.map instead.\n",
      "  styled_df = result.style.applymap(color_cells, subset=['Category'])\n"
     ]
    }
   ],
   "source": [
    "styled_df = result.style.applymap(color_cells, subset=['Category'])\n"
   ]
  },
  {
   "cell_type": "code",
   "execution_count": 228,
   "id": "73aa4fd9-ceea-4a70-be60-1a20cadbd2da",
   "metadata": {},
   "outputs": [
    {
     "data": {
      "text/html": [
       "<style type=\"text/css\">\n",
       "#T_6eeb8_row0_col1, #T_6eeb8_row1_col1, #T_6eeb8_row2_col1, #T_6eeb8_row3_col1 {\n",
       "  background-color: green;\n",
       "}\n",
       "</style>\n",
       "<table id=\"T_6eeb8\">\n",
       "  <thead>\n",
       "    <tr>\n",
       "      <th class=\"blank level0\" >&nbsp;</th>\n",
       "      <th id=\"T_6eeb8_level0_col0\" class=\"col_heading level0 col0\" >Company</th>\n",
       "      <th id=\"T_6eeb8_level0_col1\" class=\"col_heading level0 col1\" >Category</th>\n",
       "      <th id=\"T_6eeb8_level0_col2\" class=\"col_heading level0 col2\" >Relevant</th>\n",
       "    </tr>\n",
       "  </thead>\n",
       "  <tbody>\n",
       "    <tr>\n",
       "      <th id=\"T_6eeb8_level0_row0\" class=\"row_heading level0 row0\" >0</th>\n",
       "      <td id=\"T_6eeb8_row0_col0\" class=\"data row0 col0\" >jnj</td>\n",
       "      <td id=\"T_6eeb8_row0_col1\" class=\"data row0 col1\" >['Manufacturer', 'Distributor']</td>\n",
       "      <td id=\"T_6eeb8_row0_col2\" class=\"data row0 col2\" >True</td>\n",
       "    </tr>\n",
       "    <tr>\n",
       "      <th id=\"T_6eeb8_level0_row1\" class=\"row_heading level0 row1\" >1</th>\n",
       "      <td id=\"T_6eeb8_row1_col0\" class=\"data row1 col0\" >mondelezinternational</td>\n",
       "      <td id=\"T_6eeb8_row1_col1\" class=\"data row1 col1\" >['F&B']</td>\n",
       "      <td id=\"T_6eeb8_row1_col2\" class=\"data row1 col2\" >True</td>\n",
       "    </tr>\n",
       "    <tr>\n",
       "      <th id=\"T_6eeb8_level0_row2\" class=\"row_heading level0 row2\" >2</th>\n",
       "      <td id=\"T_6eeb8_row2_col0\" class=\"data row2 col0\" >namasteindiafoods</td>\n",
       "      <td id=\"T_6eeb8_row2_col1\" class=\"data row2 col1\" >['F&B', 'Brand']</td>\n",
       "      <td id=\"T_6eeb8_row2_col2\" class=\"data row2 col2\" >True</td>\n",
       "    </tr>\n",
       "    <tr>\n",
       "      <th id=\"T_6eeb8_level0_row3\" class=\"row_heading level0 row3\" >3</th>\n",
       "      <td id=\"T_6eeb8_row3_col0\" class=\"data row3 col0\" >zinereopharma</td>\n",
       "      <td id=\"T_6eeb8_row3_col1\" class=\"data row3 col1\" >['Manufacturer', 'Distributor']</td>\n",
       "      <td id=\"T_6eeb8_row3_col2\" class=\"data row3 col2\" >True</td>\n",
       "    </tr>\n",
       "  </tbody>\n",
       "</table>\n"
      ],
      "text/plain": [
       "<pandas.io.formats.style.Styler at 0x1411add9a10>"
      ]
     },
     "execution_count": 228,
     "metadata": {},
     "output_type": "execute_result"
    }
   ],
   "source": [
    "styled_df"
   ]
  },
  {
   "cell_type": "code",
   "execution_count": null,
   "id": "368c138c-034d-46eb-a3d9-003e18560fc4",
   "metadata": {},
   "outputs": [],
   "source": []
  }
 ],
 "metadata": {
  "kernelspec": {
   "display_name": "Python 3 (ipykernel)",
   "language": "python",
   "name": "python3"
  },
  "language_info": {
   "codemirror_mode": {
    "name": "ipython",
    "version": 3
   },
   "file_extension": ".py",
   "mimetype": "text/x-python",
   "name": "python",
   "nbconvert_exporter": "python",
   "pygments_lexer": "ipython3",
   "version": "3.11.7"
  }
 },
 "nbformat": 4,
 "nbformat_minor": 5
}
